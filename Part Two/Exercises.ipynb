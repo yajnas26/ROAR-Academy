{
 "cells": [
  {
   "cell_type": "code",
   "execution_count": 28,
   "metadata": {},
   "outputs": [
    {
     "name": "stdout",
     "output_type": "stream",
     "text": [
      "Fiat Lux!\n"
     ]
    }
   ],
   "source": [
    "import os\n",
    "motto = open(\"motto.txt\", \"w\")\n",
    "motto.write(\"Fiat Lux!\")\n",
    "motto.close()\n",
    "motto = open(\"motto.txt\", \"r\")\n",
    "for line in motto:\n",
    "    print(line)\n",
    "motto.close()\n",
    "motto = open(\"motto.txt\", \"a\")\n",
    "motto.write(\"\\nLet there be light!\")\n",
    "motto.close()\n"
   ]
  },
  {
   "cell_type": "code",
   "execution_count": 34,
   "metadata": {},
   "outputs": [
    {
     "ename": "NameError",
     "evalue": "name '__file__' is not defined",
     "output_type": "error",
     "traceback": [
      "\u001b[0;31m---------------------------------------------------------------------------\u001b[0m",
      "\u001b[0;31mNameError\u001b[0m                                 Traceback (most recent call last)",
      "Cell \u001b[0;32mIn[34], line 3\u001b[0m\n\u001b[1;32m      1\u001b[0m \u001b[38;5;28;01mfrom\u001b[39;00m \u001b[38;5;21;01mmatplotlib\u001b[39;00m \u001b[38;5;28;01mimport\u001b[39;00m image, pyplot\n\u001b[1;32m      2\u001b[0m \u001b[38;5;28;01mimport\u001b[39;00m \u001b[38;5;21;01mos\u001b[39;00m\n\u001b[0;32m----> 3\u001b[0m path \u001b[38;5;241m=\u001b[39m os\u001b[38;5;241m.\u001b[39mpath\u001b[38;5;241m.\u001b[39mdirname(os\u001b[38;5;241m.\u001b[39mpath\u001b[38;5;241m.\u001b[39mabspath(\u001b[38;5;18;43m__file__\u001b[39;49m))\n\u001b[1;32m      4\u001b[0m filename \u001b[38;5;241m=\u001b[39m path \u001b[38;5;241m+\u001b[39m \u001b[38;5;124m'\u001b[39m\u001b[38;5;124m/\u001b[39m\u001b[38;5;124m'\u001b[39m \u001b[38;5;241m+\u001b[39m \u001b[38;5;124m'\u001b[39m\u001b[38;5;124mlenna.bmp\u001b[39m\u001b[38;5;124m'\u001b[39m\n\u001b[1;32m      5\u001b[0m data \u001b[38;5;241m=\u001b[39m image\u001b[38;5;241m.\u001b[39mimread(filename)\n",
      "\u001b[0;31mNameError\u001b[0m: name '__file__' is not defined"
     ]
    }
   ],
   "source": [
    "from matplotlib import image, pyplot\n",
    "import os\n",
    "path = os.path.dirname(os.path.abspath(__file__))\n",
    "filename = path + '/' + 'lenna.bmp'\n",
    "data = image.imread(filename)"
   ]
  },
  {
   "cell_type": "code",
   "execution_count": null,
   "metadata": {},
   "outputs": [],
   "source": [
    "import PyPDF2\n",
    "file_handle = open(‘Sense-and-Sensibility-by-Jane-Austen.pdf’, ‘rb’) \n",
    "pdfReader = PyPDF2.PdfReader(file_handle) \n",
    "page_number = len(pdfReader.pages)   # this tells you total pages \n",
    "page_object = pdfReader.pages[0]    # We just get page 0 as example \n",
    "page_text = page_object.extractText()   # this is the str type of full p"
   ]
  },
  {
   "cell_type": "code",
   "execution_count": null,
   "metadata": {},
   "outputs": [],
   "source": []
  },
  {
   "cell_type": "code",
   "execution_count": 41,
   "metadata": {},
   "outputs": [
    {
     "name": "stdout",
     "output_type": "stream",
     "text": [
      "[[ 12 -18   2]\n",
      " [  8  48  16]]\n",
      "[[ 6. -9.  1.]\n",
      " [ 4. 24.  8.]]\n",
      "[[-7  6]\n",
      " [-6  5]]\n"
     ]
    }
   ],
   "source": [
    "import numpy as np\n",
    "\n",
    "a = np.array([[6, -9, 1], [4, 24, 8]])\n",
    "print(2 * a)\n",
    "\n",
    "b = np.eye(2)\n",
    "print(b@a)\n",
    "\n",
    "c = np.array([[4, 3], [3, 2]])\n",
    "d = np.array([[-4, 3], [3, -2]])\n",
    "print(c@d)"
   ]
  },
  {
   "cell_type": "code",
   "execution_count": 1,
   "metadata": {},
   "outputs": [
    {
     "name": "stdout",
     "output_type": "stream",
     "text": [
      "[ 1 11 21 31 41 51]\n",
      "[12 13]\n",
      "[[24 25]\n",
      " [34 35]]\n"
     ]
    }
   ],
   "source": [
    "import numpy as np\n",
    "\n",
    "a = np.array([[0, 1, 2, 3, 4, 5], [10, 11, 12, 13, 14, 15], [20, 21, 22, 23, 24, 25], [30, 31, 32, 33, 34, 35], [40, 41, 42, 43, 44, 45], [50, 51, 52, 53, 54, 55]])\n",
    "print(a[:, 1])\n",
    "print(a[1, range(2, 4)])\n",
    "print(a[2:4, 4:])\n"
   ]
  },
  {
   "cell_type": "code",
   "execution_count": null,
   "metadata": {},
   "outputs": [],
   "source": []
  },
  {
   "cell_type": "code",
   "execution_count": null,
   "metadata": {},
   "outputs": [],
   "source": [
    "import numpy as np\n",
    "def set_array(l, rows, cols, order)\n",
    "    if order == \"rows\":\n",
    "        a = np.reshape(l, rows, cols)\n",
    "    elif order == \"cols\":\n",
    "        a = np.reshape"
   ]
  },
  {
   "cell_type": "code",
   "execution_count": 7,
   "metadata": {},
   "outputs": [
    {
     "ename": "NameError",
     "evalue": "name '__file__' is not defined",
     "output_type": "error",
     "traceback": [
      "\u001b[0;31m---------------------------------------------------------------------------\u001b[0m",
      "\u001b[0;31mNameError\u001b[0m                                 Traceback (most recent call last)",
      "Cell \u001b[0;32mIn[7], line 13\u001b[0m\n\u001b[1;32m     10\u001b[0m \u001b[38;5;28;01mimport\u001b[39;00m \u001b[38;5;21;01mnumpy\u001b[39;00m \u001b[38;5;28;01mas\u001b[39;00m \u001b[38;5;21;01mnp\u001b[39;00m\n\u001b[1;32m     12\u001b[0m \u001b[38;5;66;03m# Initialization, define some constant\u001b[39;00m\n\u001b[0;32m---> 13\u001b[0m path \u001b[38;5;241m=\u001b[39m os\u001b[38;5;241m.\u001b[39mpath\u001b[38;5;241m.\u001b[39mdirname(os\u001b[38;5;241m.\u001b[39mpath\u001b[38;5;241m.\u001b[39mabspath(\u001b[38;5;18;43m__file__\u001b[39;49m))\n\u001b[1;32m     14\u001b[0m filename \u001b[38;5;241m=\u001b[39m path \u001b[38;5;241m+\u001b[39m \u001b[38;5;124m'\u001b[39m\u001b[38;5;124m/airplane.bmp\u001b[39m\u001b[38;5;124m'\u001b[39m\n\u001b[1;32m     15\u001b[0m background \u001b[38;5;241m=\u001b[39m plt\u001b[38;5;241m.\u001b[39mimread(filename)\n",
      "\u001b[0;31mNameError\u001b[0m: name '__file__' is not defined"
     ]
    }
   ],
   "source": [
    "## This is course material for Introduction to Python Scientific Programming\n",
    "## Example code: matplotlib_clock.py\n",
    "## Author: Allen Y. Yang\n",
    "##\n",
    "## (c) Copyright 2020. Intelligent Racing Inc. Not permitted for commercial use\n",
    "\n",
    "from datetime import datetime\n",
    "import matplotlib.pyplot as plt\n",
    "import os\n",
    "import numpy as np\n",
    "\n",
    "# Initialization, define some constant\n",
    "path = os.path.dirname(os.path.abspath(__file__))\n",
    "filename = path + '/airplane.bmp'\n",
    "background = plt.imread(filename)\n",
    "\n",
    "second_hand_length = 200\n",
    "second_hand_width = 2\n",
    "minute_hand_length = 150\n",
    "minute_hand_width = 6\n",
    "hour_hand_length = 100\n",
    "hour_hand_width = 10\n",
    "center = np.array([256, 256])\n",
    "\n",
    "def clock_hand_vector(angle, length):\n",
    "    return np.array([length * np.sin(angle), -length * np.cos(angle)])\n",
    "\n",
    "# draw an image background\n",
    "fig, ax = plt.subplots()\n",
    "\n",
    "while True:\n",
    "    plt.imshow(background)\n",
    "\n",
    "    # First retrieve the time\n",
    "    now_time = datetime.now()\n",
    "    hour = now_time.hour\n",
    "    if hour>12: hour = hour - 12\n",
    "    minute = now_time.minute\n",
    "    second = now_time.second\n",
    "\n",
    "    # Calculate end points of hour, minute, second\n",
    "\n",
    "    hour_vector = clock_hand_vector(hour/12*2*np.pi, hour_hand_length)\n",
    "    minute_vector = clock_hand_vector(minute/60*2*np.pi, minute_hand_length)\n",
    "    second_vector = clock_hand_vector(second/60*2*np.pi, second_hand_length)\n",
    "\n",
    "    plt.arrow(center[0], center[1], hour_vector[0], hour_vector[1], head_length = 3, linewidth = hour_hand_width, color = 'black')\n",
    "    plt.arrow(center[0], center[1], minute_vector[0], minute_vector[1], linewidth = minute_hand_width, color = 'black')\n",
    "    plt.arrow(center[0], center[1], second_vector[0], second_vector[1], linewidth = second_hand_width, color = 'red')\n",
    "\n",
    "    plt.pause(0.1)\n",
    "    plt.clf()\n"
   ]
  }
 ],
 "metadata": {
  "kernelspec": {
   "display_name": "base",
   "language": "python",
   "name": "python3"
  },
  "language_info": {
   "codemirror_mode": {
    "name": "ipython",
    "version": 3
   },
   "file_extension": ".py",
   "mimetype": "text/x-python",
   "name": "python",
   "nbconvert_exporter": "python",
   "pygments_lexer": "ipython3",
   "version": "3.9.19"
  }
 },
 "nbformat": 4,
 "nbformat_minor": 2
}
